{
 "cells": [
  {
   "cell_type": "markdown",
   "metadata": {},
   "source": [
    "# Plot measures"
   ]
  },
  {
   "cell_type": "code",
   "execution_count": 1,
   "metadata": {},
   "outputs": [],
   "source": [
    "import pandas as pd\n",
    "import matplotlib.pyplot as plt\n",
    "import seaborn as sns\n",
    "plt.style.use('seaborn')\n",
    "import numpy as np\n",
    "import scipy.stats as st\n"
   ]
  },
  {
   "cell_type": "markdown",
   "metadata": {},
   "source": [
    "## REMEMBER!"
   ]
  },
  {
   "cell_type": "markdown",
   "metadata": {},
   "source": [
    "In the folder `Plot_metrics/` create a new subfolder: `Plot_metrics/{folder_name}/`\n",
    "\n",
    "For each model you create you need to save a individual file.\n",
    "\n",
    "E.g. if your model is a XGBoost model call the file Plot_metrics/{folder_name}/\"XGBoost_gender.csv\"\n",
    "\n",
    "The file should have this specific columns:\n",
    "\n",
    "\t| Gender | TPR | FPR | TNR | FNR |   Model |\n",
    "1\t   Male    0.7   0.2    0.6   0.8  \"XGBoost\"\n",
    "\n",
    "2\t  Female   0.7   0.2    0.6   0.8  \"XGBoost\"\n",
    "\n",
    "\n",
    "E.g. if your model is a FFNN model call the file Plot_metrics/{folder_name}/\"FFNN_gender.csv\"\n",
    "\n",
    "The file should have this specific columns:\n",
    "\n",
    "\t| Gender | TPR | FPR | TNR | FNR |   Model |\n",
    "1\t   Male    0.7   0.2    0.6   0.8  \"FFNN\"\n",
    "\n",
    "2\t  Female   0.7   0.2    0.6   0.8  \"FFNN\"\n",
    "\n"
   ]
  },
  {
   "cell_type": "markdown",
   "metadata": {},
   "source": [
    "## Folder to save the plots"
   ]
  },
  {
   "cell_type": "code",
   "execution_count": null,
   "metadata": {},
   "outputs": [],
   "source": [
    "folder_name=\"original\""
   ]
  },
  {
   "cell_type": "code",
   "execution_count": null,
   "metadata": {},
   "outputs": [],
   "source": [
    "PATH=f\"../Plot_metrics/{folder_name}/\""
   ]
  },
  {
   "cell_type": "markdown",
   "metadata": {},
   "source": [
    "## read data"
   ]
  },
  {
   "cell_type": "code",
   "execution_count": null,
   "metadata": {},
   "outputs": [],
   "source": [
    "data_gender_FFNN=pd.read_csv(PATH+\"FFNN_gender.csv\")\n",
    "data_gender_Xgboost=pd.read_csv(PATH+\"Xgboost_gender.csv\")"
   ]
  },
  {
   "cell_type": "code",
   "execution_count": null,
   "metadata": {},
   "outputs": [],
   "source": [
    "all_data_gender=pd.concat([\n",
    "    data_gender_FFNN,\n",
    "    data_gender_Xgboost\n",
    "],sort=False,axis=0\n",
    ")"
   ]
  },
  {
   "cell_type": "markdown",
   "metadata": {},
   "source": [
    "## melt data"
   ]
  },
  {
   "cell_type": "code",
   "execution_count": null,
   "metadata": {},
   "outputs": [],
   "source": [
    "all_data_gender=all_data_gender.melt(id_vars=[\"Gender\",\"Model\"],var_name=\"Metric\",value_name=\"Value\")"
   ]
  },
  {
   "cell_type": "markdown",
   "metadata": {},
   "source": [
    "## Convert binary gender to string."
   ]
  },
  {
   "cell_type": "code",
   "execution_count": null,
   "metadata": {},
   "outputs": [],
   "source": [
    "all_data_gender[\"Gender_string\"]=all_data_gender[\"Gender\"].apply(lambda x: \"Female\" if x==0 else \"Male\")"
   ]
  },
  {
   "cell_type": "markdown",
   "metadata": {},
   "source": [
    "## Create plot"
   ]
  },
  {
   "cell_type": "code",
   "execution_count": null,
   "metadata": {},
   "outputs": [],
   "source": [
    "list_of_models=[\"SVM\",\"LR\",\"RF\",\"FFNN\",\"XGBoost\"]\n",
    "\n",
    "for i,v in enumerate(list_of_models):\n",
    "    \n",
    "    filter1=all_data_gender[\"Model\"]==v\n",
    "    \n",
    "    ax[i].set_title(v,size=15)\n",
    "    ax[i].set_ylim([0, 1])\n",
    "    ax[i].grid(axis='x')\n",
    "    sns.barplot(data=all_data_gender[(filter1)],x=\"Metric\",y=\"Value\",hue=\"Gender_string\",ax=ax[i],errwidth=1,capsize=0.25,palette=palette_custom,hue_order=gender_order)\n",
    "    \n",
    "    ax[i].legend(title=\"Gender\")\n",
    "    ax[i].legend( loc=\"upper right\")\n",
    "    if i==0:\n",
    "        ax[i].set(xlabel='')\n",
    "        ax[i].set_ylabel(\"Rate\",fontsize=20)\n",
    "    if i==1:\n",
    "        ax[i].set(xlabel='',ylabel='')\n",
    "        ax[i].tick_params( labelleft=False)\n",
    "    if i==2:\n",
    "        ax[i].set_ylabel(\"Rate\",fontsize=20)\n",
    "        ax[i].set_xlabel(\"\",fontsize=20)\n",
    "        \n",
    "    if i==3:\n",
    "        ax[i].set(ylabel='')\n",
    "        ax[i].set_xlabel(\"\",fontsize=20)\n",
    "        ax[i].tick_params( labelleft=False)\n",
    "    if i==4:\n",
    "        ax[i].set_ylabel('Rate',fontsize=20)\n",
    "        ax[i].set_xlabel(\"\",fontsize=20)\n",
    "\n",
    "\n",
    "plt.savefig(f\"/Plots/{folder_name}/{folder_name}_gender_metrics_allmodels\", bbox_inches = 'tight')\n",
    "plt.show()"
   ]
  },
  {
   "cell_type": "markdown",
   "metadata": {},
   "source": [
    "## Calcuate relation between male/female"
   ]
  },
  {
   "cell_type": "code",
   "execution_count": null,
   "metadata": {},
   "outputs": [],
   "source": [
    "frame=all_data_gender\n",
    "newFrame=pd.DataFrame([],columns=[\"Model\",\"Metric\",\"Abs Difference\",\"Relation\",\"Relative difference (%)\"])\n",
    "\n",
    "for i in list(frame[\"Model\"].unique()):\n",
    "    for j in list(frame[\"Metric\"].unique()) :\n",
    "        if j not in [\"Mean_y_target\",\"Mean_y_hat_prob\"]:\n",
    "            female_val=frame[(frame[\"Model\"]==i)&(frame[\"Metric\"]==j)&(frame[\"Gender_string\"]==\"Female\")][\"Value\"].mean()\n",
    "            male_val=frame[(frame[\"Model\"]==i)&(frame[\"Metric\"]==j)&(frame[\"Gender_string\"]==\"Male\")][\"Value\"].mean()\n",
    "            absdiff=abs(female_val-male_val)\n",
    "\n",
    "            mini=min(female_val,male_val)\n",
    "            maxi=max(female_val,male_val)\n",
    "            reldiff=((maxi-mini)/mini)*100\n",
    "\n",
    "            relation=female_val/male_val\n",
    "\n",
    "            newFrame=newFrame.append({\"Model\":i,\"Metric\":j,\"Abs Difference\":absdiff,\"Relation\":relation,\"Relative difference (%)\":reldiff},ignore_index=True)"
   ]
  },
  {
   "cell_type": "markdown",
   "metadata": {},
   "source": [
    "## Plot relation"
   ]
  },
  {
   "cell_type": "code",
   "execution_count": null,
   "metadata": {},
   "outputs": [],
   "source": [
    "plt.figure(figsize=(10,10)) \n",
    "\n",
    "sns.stripplot(data=newFrame,x=\"Metric\",y=\"Relation\",hue=\"Model\",jitter=0.,size=10,alpha=0.8,linewidth=1,\n",
    "             palette={\"FFNN\":\"C0\",\"XGBoost\":\"C1\",\"SVM\":\"C2\",\"LR\":\"C3\",\"RF\":\"C4\"}             \n",
    "             )\n",
    "\n",
    "plt.hlines(y=1, xmin=-0.5, xmax=3.5, colors='red', linestyles='--', lw=1, label='Equal relation')\n",
    "plt.hlines(y=0.8, xmin=-0.5, xmax=3.5, colors='grey', linestyles='--', lw=1, label='Relation boundary')\n",
    "plt.hlines(y=1.25, xmin=-0.5, xmax=3.5, colors='grey', linestyles='--', lw=1)#, label='Relative difference=0.8')\n",
    "\n",
    "plt.legend( loc=\"upper left\")\n",
    "plt.legend(loc=2, prop={'size': 15})\n",
    "plt.tick_params(axis='both', which='major', labelsize=20)\n",
    "plt.xlabel( \"Metric\",fontsize=20,labelpad=10)\n",
    "plt.ylabel( \"Relation\",fontsize=20,labelpad=10)\n",
    "plt.yticks(np.arange(0.6,1.7 , step=0.2))\n",
    "plt.ylim([0.5,1.7])\n",
    "\n",
    "\n",
    "\n",
    "if folder_name==\"original\":\n",
    "    plt.title(\"Original Data\",fontsize=20)\n",
    "else:\n",
    "    plt.title(\"TITLE MISSING\")\n",
    "\n",
    "plt.savefig(f\"/Plots/{folder_name}/Difference_gender_{folder_name}_relation.png\", bbox_inches = 'tight')\n",
    "    \n",
    "\n",
    "plt.show()"
   ]
  }
 ],
 "metadata": {
  "kernelspec": {
   "display_name": "Python 3",
   "language": "python",
   "name": "python3"
  },
  "language_info": {
   "codemirror_mode": {
    "name": "ipython",
    "version": 3
   },
   "file_extension": ".py",
   "mimetype": "text/x-python",
   "name": "python",
   "nbconvert_exporter": "python",
   "pygments_lexer": "ipython3",
   "version": "3.7.4"
  }
 },
 "nbformat": 4,
 "nbformat_minor": 2
}
