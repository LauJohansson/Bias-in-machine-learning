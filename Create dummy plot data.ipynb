{
 "cells": [
  {
   "cell_type": "code",
   "execution_count": 1,
   "metadata": {},
   "outputs": [],
   "source": [
    "import pandas as pd"
   ]
  },
  {
   "cell_type": "code",
   "execution_count": 2,
   "metadata": {},
   "outputs": [],
   "source": [
    "save_to_folder=\"dummy\""
   ]
  },
  {
   "cell_type": "markdown",
   "metadata": {},
   "source": [
    "# XGBoost"
   ]
  },
  {
   "cell_type": "code",
   "execution_count": 3,
   "metadata": {},
   "outputs": [],
   "source": [
    "\n",
    "XGBoost_metrics=pd.DataFrame([[\"Male\",0.80,0.70,0.30,0.20,\"XGBoost\"],\n",
    "                                   [\"Female\",0.80,0.70,0.30,0.20,\"XGBoost\"],\n",
    "                                   [\"Male\",0.75,0.65,0.35,0.25,\"XGBoost\"],\n",
    "                                   [\"Female\",0.60,0.70,0.30,0.40,\"XGBoost\"],\n",
    "                                   [\"Male\",0.90,0.90,0.10,0.10,\"XGBoost\"],\n",
    "                                   [\"Female\",0.80,0.70,0.30,0.20,\"XGBoost\"],\n",
    "                                  ],\n",
    "                                  columns=[\"Gender\",\"TPR\",\"FPR\",\"TNR\",\"FNR\",\"Model\"])"
   ]
  },
  {
   "cell_type": "code",
   "execution_count": 4,
   "metadata": {},
   "outputs": [],
   "source": [
    "XGBoost_metrics.to_csv(f\"Plot_metrics/{save_to_folder}/Xgboost_gender.csv\")"
   ]
  },
  {
   "cell_type": "markdown",
   "metadata": {},
   "source": [
    "# FFFNN"
   ]
  },
  {
   "cell_type": "code",
   "execution_count": 5,
   "metadata": {},
   "outputs": [],
   "source": [
    "\n",
    "FFNN_metrics=pd.DataFrame([[\"Male\",0.80,0.70,0.30,0.20,\"FFNN\"],\n",
    "                                   [\"Female\",0.80,0.70,0.30,0.20,\"FFNN\"],\n",
    "                                   [\"Male\",0.75,0.65,0.35,0.25,\"FFNN\"],\n",
    "                                   [\"Female\",0.60,0.70,0.30,0.40,\"FFNN\"],\n",
    "                                   [\"Male\",0.90,0.90,0.10,0.10,\"FFNN\"],\n",
    "                                   [\"Female\",0.80,0.70,0.30,0.20,\"FFNN\"],\n",
    "                                  ],\n",
    "                                  columns=[\"Gender\",\"TPR\",\"FPR\",\"TNR\",\"FNR\",\"Model\"])"
   ]
  },
  {
   "cell_type": "code",
   "execution_count": 6,
   "metadata": {},
   "outputs": [],
   "source": [
    "FFNN_metrics.to_csv(f\"Plot_metrics/{save_to_folder}/FFNN_gender.csv\")"
   ]
  },
  {
   "cell_type": "markdown",
   "metadata": {},
   "source": [
    "# SVM"
   ]
  },
  {
   "cell_type": "code",
   "execution_count": 7,
   "metadata": {},
   "outputs": [],
   "source": [
    "SVM_metrics=pd.DataFrame([[\"Male\",0.80,0.70,0.30,0.20,\"SVM\"],\n",
    "                                   [\"Female\",0.80,0.70,0.30,0.20,\"SVM\"],\n",
    "                                   [\"Male\",0.75,0.65,0.35,0.25,\"SVM\"],\n",
    "                                   [\"Female\",0.60,0.70,0.30,0.40,\"SVM\"],\n",
    "                                   [\"Male\",0.90,0.90,0.10,0.10,\"SVM\"],\n",
    "                                   [\"Female\",0.80,0.70,0.30,0.20,\"SVM\"],\n",
    "                                  ],\n",
    "                                  columns=[\"Gender\",\"TPR\",\"FPR\",\"TNR\",\"FNR\",\"Model\"])"
   ]
  },
  {
   "cell_type": "code",
   "execution_count": 8,
   "metadata": {},
   "outputs": [],
   "source": [
    "SVM_metrics.to_csv(f\"Plot_metrics/{save_to_folder}/SVM_gender.csv\")"
   ]
  },
  {
   "cell_type": "markdown",
   "metadata": {},
   "source": [
    "# LR (Logistic regression)"
   ]
  },
  {
   "cell_type": "code",
   "execution_count": 9,
   "metadata": {},
   "outputs": [],
   "source": [
    "LR_metrics=pd.DataFrame([[\"Male\",0.80,0.70,0.30,0.20,\"LR\"],\n",
    "                                   [\"Female\",0.80,0.70,0.30,0.20,\"LR\"],\n",
    "                                   [\"Male\",0.75,0.65,0.35,0.25,\"LR\"],\n",
    "                                   [\"Female\",0.60,0.70,0.30,0.40,\"LR\"],\n",
    "                                   [\"Male\",0.90,0.90,0.10,0.10,\"LR\"],\n",
    "                                   [\"Female\",0.80,0.70,0.30,0.20,\"LR\"],\n",
    "                                  ],\n",
    "                                  columns=[\"Gender\",\"TPR\",\"FPR\",\"TNR\",\"FNR\",\"Model\"])"
   ]
  },
  {
   "cell_type": "code",
   "execution_count": 10,
   "metadata": {},
   "outputs": [],
   "source": [
    "LR_metrics.to_csv(f\"Plot_metrics/{save_to_folder}/LR_gender.csv\")"
   ]
  },
  {
   "cell_type": "markdown",
   "metadata": {},
   "source": [
    "# RF (Random Forest)"
   ]
  },
  {
   "cell_type": "code",
   "execution_count": 11,
   "metadata": {},
   "outputs": [],
   "source": [
    "RF_metrics=pd.DataFrame([[\"Male\",0.80,0.70,0.30,0.20,\"RF\"],\n",
    "                                   [\"Female\",0.80,0.70,0.30,0.20,\"RF\"],\n",
    "                                   [\"Male\",0.75,0.65,0.35,0.25,\"RF\"],\n",
    "                                   [\"Female\",0.60,0.70,0.30,0.40,\"RF\"],\n",
    "                                   [\"Male\",0.90,0.90,0.10,0.10,\"RF\"],\n",
    "                                   [\"Female\",0.80,0.70,0.30,0.20,\"RF\"],\n",
    "                                  ],\n",
    "                                  columns=[\"Gender\",\"TPR\",\"FPR\",\"TNR\",\"FNR\",\"Model\"])"
   ]
  },
  {
   "cell_type": "code",
   "execution_count": 12,
   "metadata": {},
   "outputs": [],
   "source": [
    "RF_metrics.to_csv(f\"Plot_metrics/{save_to_folder}/RF_gender.csv\")"
   ]
  }
 ],
 "metadata": {
  "kernelspec": {
   "display_name": "Python 3",
   "language": "python",
   "name": "python3"
  },
  "language_info": {
   "codemirror_mode": {
    "name": "ipython",
    "version": 3
   },
   "file_extension": ".py",
   "mimetype": "text/x-python",
   "name": "python",
   "nbconvert_exporter": "python",
   "pygments_lexer": "ipython3",
   "version": "3.7.4"
  }
 },
 "nbformat": 4,
 "nbformat_minor": 2
}
