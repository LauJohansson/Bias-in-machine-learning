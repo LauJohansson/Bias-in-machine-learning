{
 "cells": [
  {
   "cell_type": "code",
   "execution_count": 1,
   "metadata": {},
   "outputs": [
    {
     "name": "stdout",
     "output_type": "stream",
     "text": [
      "Collecting py2nb\n",
      "  Downloading https://files.pythonhosted.org/packages/a9/72/a2e63be57d6c16775105dfd17bd4054775bd64326851d1731e3bbd66907a/py2nb-1.0.0.tar.gz\n",
      "Requirement already satisfied: nbformat in /Users/LauJohansson/opt/anaconda3/lib/python3.7/site-packages (from py2nb) (4.4.0)\n",
      "Requirement already satisfied: jsonschema!=2.5.0,>=2.4 in /Users/LauJohansson/opt/anaconda3/lib/python3.7/site-packages (from nbformat->py2nb) (3.0.2)\n",
      "Requirement already satisfied: jupyter-core in /Users/LauJohansson/opt/anaconda3/lib/python3.7/site-packages (from nbformat->py2nb) (4.5.0)\n",
      "Requirement already satisfied: traitlets>=4.1 in /Users/LauJohansson/opt/anaconda3/lib/python3.7/site-packages (from nbformat->py2nb) (4.3.3)\n",
      "Requirement already satisfied: ipython-genutils in /Users/LauJohansson/opt/anaconda3/lib/python3.7/site-packages (from nbformat->py2nb) (0.2.0)\n",
      "Requirement already satisfied: six>=1.11.0 in /Users/LauJohansson/opt/anaconda3/lib/python3.7/site-packages (from jsonschema!=2.5.0,>=2.4->nbformat->py2nb) (1.12.0)\n",
      "Requirement already satisfied: attrs>=17.4.0 in /Users/LauJohansson/opt/anaconda3/lib/python3.7/site-packages (from jsonschema!=2.5.0,>=2.4->nbformat->py2nb) (19.2.0)\n",
      "Requirement already satisfied: pyrsistent>=0.14.0 in /Users/LauJohansson/opt/anaconda3/lib/python3.7/site-packages (from jsonschema!=2.5.0,>=2.4->nbformat->py2nb) (0.15.4)\n",
      "Requirement already satisfied: setuptools in /Users/LauJohansson/opt/anaconda3/lib/python3.7/site-packages (from jsonschema!=2.5.0,>=2.4->nbformat->py2nb) (41.4.0)\n",
      "Requirement already satisfied: decorator in /Users/LauJohansson/opt/anaconda3/lib/python3.7/site-packages (from traitlets>=4.1->nbformat->py2nb) (4.4.0)\n",
      "Building wheels for collected packages: py2nb\n",
      "  Building wheel for py2nb (setup.py) ... \u001b[?25ldone\n",
      "\u001b[?25h  Created wheel for py2nb: filename=py2nb-1.0.0-cp37-none-any.whl size=3914 sha256=f0db07023488b9f4a419a1388e3792ea114da4ffd3c0e9e63fd98d9e1e4dd7f6\n",
      "  Stored in directory: /Users/LauJohansson/Library/Caches/pip/wheels/8b/e9/03/f5683e07256a937a2424998f5c040108ad5de3a30287ebb6d1\n",
      "Successfully built py2nb\n",
      "Installing collected packages: py2nb\n",
      "Successfully installed py2nb-1.0.0\n",
      "Note: you may need to restart the kernel to use updated packages.\n"
     ]
    }
   ],
   "source": [
    "pip install py2nb"
   ]
  },
  {
   "cell_type": "code",
   "execution_count": 3,
   "metadata": {},
   "outputs": [
    {
     "name": "stdout",
     "output_type": "stream",
     "text": [
      "/bin/sh: py2nb: command not found\r\n"
     ]
    }
   ],
   "source": [
    "!py2nb plot_measures_AIR.py"
   ]
  },
  {
   "cell_type": "code",
   "execution_count": null,
   "metadata": {},
   "outputs": [],
   "source": []
  }
 ],
 "metadata": {
  "kernelspec": {
   "display_name": "Python 3",
   "language": "python",
   "name": "python3"
  },
  "language_info": {
   "codemirror_mode": {
    "name": "ipython",
    "version": 3
   },
   "file_extension": ".py",
   "mimetype": "text/x-python",
   "name": "python",
   "nbconvert_exporter": "python",
   "pygments_lexer": "ipython3",
   "version": "3.7.4"
  }
 },
 "nbformat": 4,
 "nbformat_minor": 2
}
