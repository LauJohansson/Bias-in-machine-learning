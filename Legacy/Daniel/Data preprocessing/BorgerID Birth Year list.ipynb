{
 "cells": [
  {
   "cell_type": "code",
   "execution_count": null,
   "metadata": {},
   "outputs": [],
   "source": [
    "#!/usr/bin/env python\n",
    "# coding: utf-8"
   ]
  },
  {
   "cell_type": "markdown",
   "metadata": {},
   "source": [
    "In[64]:"
   ]
  },
  {
   "cell_type": "code",
   "execution_count": null,
   "metadata": {},
   "outputs": [],
   "source": [
    "import pandas as pd\n",
    "import numpy as np"
   ]
  },
  {
   "cell_type": "markdown",
   "metadata": {},
   "source": [
    "In[65]:"
   ]
  },
  {
   "cell_type": "markdown",
   "metadata": {},
   "source": [
    "id_data = []<br>\n",
    "id_data = pd.DataFrame(aid_data)"
   ]
  },
  {
   "cell_type": "code",
   "execution_count": null,
   "metadata": {},
   "outputs": [],
   "source": [
    "for i in range(0,6):\n",
    "    if i==0:\n",
    "        aid_data=pd.read_excel(\"/restricted/s161749/G2020-57-Aalborg-bias/Data/borgere_hmi_Rasmus_BorgerId_Gender_BirthYear.xlsx\",index_col=0,sheet_name=i,dtype={\"BorgerID\":str})\n",
    "    else:\n",
    "        aid_data.append(pd.read_excel(\"/restricted/s161749/G2020-57-Aalborg-bias/Data/borgere_hmi_Rasmus_BorgerId_Gender_BirthYear.xlsx\",index_col=0,sheet_name=i,dtype={\"BorgerID\":str}))\n",
    "    "
   ]
  },
  {
   "cell_type": "markdown",
   "metadata": {},
   "source": [
    "In[100]:"
   ]
  },
  {
   "cell_type": "code",
   "execution_count": null,
   "metadata": {},
   "outputs": [],
   "source": [
    "aid_data_0 = pd.read_excel(\"/restricted/s161749/G2020-57-Aalborg-bias/Data/borgere_hmi_Rasmus_BorgerId_Gender_BirthYear.xlsx\",index_col=0,sheet_name=0)#,dtype={\"BorgerID\":int})\n",
    "aid_data_1 = pd.read_excel(\"/restricted/s161749/G2020-57-Aalborg-bias/Data/borgere_hmi_Rasmus_BorgerId_Gender_BirthYear.xlsx\",index_col=0,sheet_name=1)#,dtype={\"BorgerID\":int})\n",
    "aid_data_2 = pd.read_excel(\"/restricted/s161749/G2020-57-Aalborg-bias/Data/borgere_hmi_Rasmus_BorgerId_Gender_BirthYear.xlsx\",index_col=0,sheet_name=2)#,dtype={\"BorgerID\":int})\n",
    "aid_data_3 = pd.read_excel(\"/restricted/s161749/G2020-57-Aalborg-bias/Data/borgere_hmi_Rasmus_BorgerId_Gender_BirthYear.xlsx\",index_col=0,sheet_name=3)#,dtype={\"BorgerID\":int})\n",
    "aid_data_4 = pd.read_excel(\"/restricted/s161749/G2020-57-Aalborg-bias/Data/borgere_hmi_Rasmus_BorgerId_Gender_BirthYear.xlsx\",index_col=0,sheet_name=4)#,dtype={\"BorgerID\":int})\n",
    "aid_data_5 = pd.read_excel(\"/restricted/s161749/G2020-57-Aalborg-bias/Data/borgere_hmi_Rasmus_BorgerId_Gender_BirthYear.xlsx\",index_col=0,sheet_name=5)#,dtype={\"BorgerID\":int})\n",
    "aid_data   = pd.concat([aid_data_0,aid_data_1,aid_data_2,aid_data_3,aid_data_4,aid_data_5],sort=False,axis=0)"
   ]
  },
  {
   "cell_type": "markdown",
   "metadata": {},
   "source": [
    "In[101]:"
   ]
  },
  {
   "cell_type": "code",
   "execution_count": null,
   "metadata": {},
   "outputs": [],
   "source": [
    "aid_data.shape"
   ]
  },
  {
   "cell_type": "markdown",
   "metadata": {},
   "source": [
    "In[102]:"
   ]
  },
  {
   "cell_type": "code",
   "execution_count": null,
   "metadata": {},
   "outputs": [],
   "source": [
    "aid_data = aid_data.reset_index()"
   ]
  },
  {
   "cell_type": "markdown",
   "metadata": {},
   "source": [
    "In[ ]:"
   ]
  },
  {
   "cell_type": "markdown",
   "metadata": {},
   "source": [
    "In[103]:"
   ]
  },
  {
   "cell_type": "markdown",
   "metadata": {},
   "source": [
    "id_data = pd.read_excel(\"/restricted/s161749/G2020-57-Aalborg-bias/Data/borgere_hmi_Rasmus_BorgerId_Gender_BirthYear.xlsx\",index_col=0,sheet_name=5,dtype={\"BorgerID\":str})"
   ]
  },
  {
   "cell_type": "markdown",
   "metadata": {},
   "source": [
    "In[ ]:"
   ]
  },
  {
   "cell_type": "markdown",
   "metadata": {},
   "source": [
    "In[104]:"
   ]
  },
  {
   "cell_type": "code",
   "execution_count": null,
   "metadata": {},
   "outputs": [],
   "source": [
    "aid_data"
   ]
  },
  {
   "cell_type": "markdown",
   "metadata": {},
   "source": [
    "In[105]:"
   ]
  },
  {
   "cell_type": "markdown",
   "metadata": {},
   "source": [
    "id_data=aid_data.drop_duplicates(subset=['BorgerID','Birth Year'])"
   ]
  },
  {
   "cell_type": "code",
   "execution_count": null,
   "metadata": {},
   "outputs": [],
   "source": [
    "aid_data_no_nan=aid_data.dropna(subset=['BorgerID'])\n",
    "aid_data_no_nan=aid_data_no_nan.dropna(subset=['Birth Year'])\n",
    "aid_data_no_nan=aid_data_no_nan.drop_duplicates(subset=['BorgerID'])"
   ]
  },
  {
   "cell_type": "markdown",
   "metadata": {},
   "source": [
    "In[106]:"
   ]
  },
  {
   "cell_type": "code",
   "execution_count": null,
   "metadata": {},
   "outputs": [],
   "source": [
    "ID_birth = aid_data_no_nan[['BorgerID','Birth Year']]\n",
    "ID_birth = ID_birth.reset_index(drop=True)\n",
    "ID_birth"
   ]
  },
  {
   "cell_type": "markdown",
   "metadata": {},
   "source": [
    "In[107]:"
   ]
  },
  {
   "cell_type": "code",
   "execution_count": null,
   "metadata": {},
   "outputs": [],
   "source": [
    "ID_birth['BorgerID'].value_counts()"
   ]
  },
  {
   "cell_type": "markdown",
   "metadata": {},
   "source": [
    "In[108]:"
   ]
  },
  {
   "cell_type": "code",
   "execution_count": null,
   "metadata": {},
   "outputs": [],
   "source": [
    "ID_birth.dropna()"
   ]
  },
  {
   "cell_type": "markdown",
   "metadata": {},
   "source": [
    "In[109]:"
   ]
  },
  {
   "cell_type": "code",
   "execution_count": null,
   "metadata": {},
   "outputs": [],
   "source": [
    "ID_birth.to_csv('../Transformed_data/ID_birth_list.csv')"
   ]
  },
  {
   "cell_type": "markdown",
   "metadata": {},
   "source": [
    "In[ ]:"
   ]
  },
  {
   "cell_type": "markdown",
   "metadata": {},
   "source": [
    "In[ ]:"
   ]
  },
  {
   "cell_type": "markdown",
   "metadata": {},
   "source": [
    "In[ ]:"
   ]
  },
  {
   "cell_type": "markdown",
   "metadata": {},
   "source": [
    "In[ ]:"
   ]
  }
 ],
 "metadata": {
  "kernelspec": {
   "display_name": "Python 3",
   "language": "python",
   "name": "python3"
  },
  "language_info": {
   "codemirror_mode": {
    "name": "ipython",
    "version": 3
   },
   "file_extension": ".py",
   "mimetype": "text/x-python",
   "name": "python",
   "nbconvert_exporter": "python",
   "pygments_lexer": "ipython3",
   "version": "3.8.5"
  }
 },
 "nbformat": 4,
 "nbformat_minor": 2
}
